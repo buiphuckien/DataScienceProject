{
 "cells": [
  {
   "cell_type": "code",
   "execution_count": 7,
   "id": "089ce414-37c2-4873-bfde-0b2513f1ad78",
   "metadata": {},
   "outputs": [
    {
     "data": {
      "text/plain": [
       "DecisionTreeClassifier(random_state=0)"
      ]
     },
     "execution_count": 7,
     "metadata": {},
     "output_type": "execute_result"
    }
   ],
   "source": [
    "from sklearn.tree import DecisionTreeClassifier\n",
    "\n",
    "features = [[1, 2, 1],\n",
    "            [1, 3, 3],\n",
    "            [2, 3, 1],\n",
    "            [4, 1, 4],\n",
    "            [5, 1, 5],\n",
    "            [5, 2, 4]]\n",
    "\n",
    "targets = ['A', 'A', 'A', 'B', 'B', 'B']\n",
    "tree  = DecisionTreeClassifier(random_state=0)\n",
    "tree.fit(features, targets)"
   ]
  },
  {
   "cell_type": "code",
   "execution_count": 8,
   "id": "4714af82-c52c-4107-adf5-bcf14bf3bfee",
   "metadata": {},
   "outputs": [
    {
     "data": {
      "text/plain": [
       "array(['A'], dtype='<U1')"
      ]
     },
     "execution_count": 8,
     "metadata": {},
     "output_type": "execute_result"
    }
   ],
   "source": [
    "tree.predict([[2, 2, 3]])"
   ]
  },
  {
   "cell_type": "code",
   "execution_count": 9,
   "id": "27eed14b-8932-4e40-9b18-e561f9fa88bb",
   "metadata": {},
   "outputs": [
    {
     "data": {
      "text/plain": [
       "array([1., 0., 0.])"
      ]
     },
     "execution_count": 9,
     "metadata": {},
     "output_type": "execute_result"
    }
   ],
   "source": [
    "tree.feature_importances_"
   ]
  },
  {
   "cell_type": "code",
   "execution_count": null,
   "id": "1dee458b-9371-4fec-a84e-a9f7c38ad61d",
   "metadata": {},
   "outputs": [],
   "source": []
  }
 ],
 "metadata": {
  "kernelspec": {
   "display_name": "Python 3 (ipykernel)",
   "language": "python",
   "name": "python3"
  },
  "language_info": {
   "codemirror_mode": {
    "name": "ipython",
    "version": 3
   },
   "file_extension": ".py",
   "mimetype": "text/x-python",
   "name": "python",
   "nbconvert_exporter": "python",
   "pygments_lexer": "ipython3",
   "version": "3.9.12"
  }
 },
 "nbformat": 4,
 "nbformat_minor": 5
}
