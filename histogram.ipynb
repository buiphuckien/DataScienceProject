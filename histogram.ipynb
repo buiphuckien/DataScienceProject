{
 "cells": [
  {
   "cell_type": "markdown",
   "id": "41bcf16c-f3fe-42a8-80c0-7f33271fd8b3",
   "metadata": {},
   "source": [
    "# How to plot a histogram with python"
   ]
  },
  {
   "cell_type": "markdown",
   "id": "396b3754-0949-4811-a8bd-ce44e6f89a69",
   "metadata": {
    "tags": []
   },
   "source": [
    "Bảng sau là kết quả khảo sát lượng thuốc hút trung bình mỗi ngày của 68 người có hút thuốc\n",
    "\n",
    "|  Số điếu thuốc hút trung bình một ngày | \\[0;8) |\\[8;12)  |\\[12;16)  |\\[16;24)  | \\[24;28) | \\[28;34) | \\[34; 50\\]|\n",
    "|----------------------------------------|--------|---------|----------|----------|----------|----------|-----------|\n",
    "| Số lượng                               | 4      |      6  |      12  |      28  |       8  |       6  |        4  |\n",
    "\n",
    "<ol type='A'>\n",
    "    <li>Lập bảng cho thấy tần số (frequency), tần suất (relative frequency), mật độ (density), tần số tích\n",
    "lũy (cumulative frequency), tần suất tích lũy (cumulative relative frequency).</li>\n",
    "    <li>Vẽ biểu đồ histogram.</li>\n",
    "    <li>Vẽ biểu đồ tần suất tích lũy.</li>\n",
    "    <li>Nhận xét.</li>\n",
    "</ol>"
   ]
  },
  {
   "cell_type": "markdown",
   "id": "a23740de-4871-4414-8957-5c631f14be44",
   "metadata": {},
   "source": [
    "**Bài làm**"
   ]
  },
  {
   "cell_type": "markdown",
   "id": "cdbbe516-011e-4a44-99b6-47939ccebab9",
   "metadata": {},
   "source": [
    "**1. Lập bảng cho thấy tần số (frequency), tần suất (relative frequency), mật độ (density), tần số tích\n",
    "lũy (cumulative frequency), tần suất tích lũy (cumulative relative frequency).**"
   ]
  },
  {
   "cell_type": "code",
   "execution_count": 1,
   "id": "245864f8-3d40-4236-8917-b276610ecfaf",
   "metadata": {},
   "outputs": [
    {
     "data": {
      "text/html": [
       "<div>\n",
       "<style scoped>\n",
       "    .dataframe tbody tr th:only-of-type {\n",
       "        vertical-align: middle;\n",
       "    }\n",
       "\n",
       "    .dataframe tbody tr th {\n",
       "        vertical-align: top;\n",
       "    }\n",
       "\n",
       "    .dataframe thead th {\n",
       "        text-align: right;\n",
       "    }\n",
       "</style>\n",
       "<table border=\"1\" class=\"dataframe\">\n",
       "  <thead>\n",
       "    <tr style=\"text-align: right;\">\n",
       "      <th></th>\n",
       "      <th>Interval</th>\n",
       "      <th>Frequency</th>\n",
       "      <th>Density</th>\n",
       "      <th>Relative Frequency</th>\n",
       "      <th>Cumulative Frequency</th>\n",
       "      <th>Cumulative relative frequency</th>\n",
       "    </tr>\n",
       "  </thead>\n",
       "  <tbody>\n",
       "    <tr>\n",
       "      <th>0</th>\n",
       "      <td>0 - 8</td>\n",
       "      <td>4</td>\n",
       "      <td>0.007</td>\n",
       "      <td>0.059</td>\n",
       "      <td>4</td>\n",
       "      <td>0.059</td>\n",
       "    </tr>\n",
       "    <tr>\n",
       "      <th>1</th>\n",
       "      <td>8 - 12</td>\n",
       "      <td>6</td>\n",
       "      <td>0.022</td>\n",
       "      <td>0.088</td>\n",
       "      <td>10</td>\n",
       "      <td>0.147</td>\n",
       "    </tr>\n",
       "    <tr>\n",
       "      <th>2</th>\n",
       "      <td>12 - 16</td>\n",
       "      <td>12</td>\n",
       "      <td>0.044</td>\n",
       "      <td>0.176</td>\n",
       "      <td>22</td>\n",
       "      <td>0.323</td>\n",
       "    </tr>\n",
       "    <tr>\n",
       "      <th>3</th>\n",
       "      <td>16 - 24</td>\n",
       "      <td>28</td>\n",
       "      <td>0.052</td>\n",
       "      <td>0.412</td>\n",
       "      <td>50</td>\n",
       "      <td>0.735</td>\n",
       "    </tr>\n",
       "    <tr>\n",
       "      <th>4</th>\n",
       "      <td>24 - 28</td>\n",
       "      <td>8</td>\n",
       "      <td>0.030</td>\n",
       "      <td>0.118</td>\n",
       "      <td>58</td>\n",
       "      <td>0.853</td>\n",
       "    </tr>\n",
       "    <tr>\n",
       "      <th>5</th>\n",
       "      <td>28 - 34</td>\n",
       "      <td>6</td>\n",
       "      <td>0.015</td>\n",
       "      <td>0.088</td>\n",
       "      <td>64</td>\n",
       "      <td>0.941</td>\n",
       "    </tr>\n",
       "    <tr>\n",
       "      <th>6</th>\n",
       "      <td>34 - 50</td>\n",
       "      <td>4</td>\n",
       "      <td>0.004</td>\n",
       "      <td>0.059</td>\n",
       "      <td>68</td>\n",
       "      <td>1.000</td>\n",
       "    </tr>\n",
       "  </tbody>\n",
       "</table>\n",
       "</div>"
      ],
      "text/plain": [
       "  Interval  Frequency  Density  Relative Frequency  Cumulative Frequency  \\\n",
       "0    0 - 8          4    0.007               0.059                     4   \n",
       "1   8 - 12          6    0.022               0.088                    10   \n",
       "2  12 - 16         12    0.044               0.176                    22   \n",
       "3  16 - 24         28    0.052               0.412                    50   \n",
       "4  24 - 28          8    0.030               0.118                    58   \n",
       "5  28 - 34          6    0.015               0.088                    64   \n",
       "6  34 - 50          4    0.004               0.059                    68   \n",
       "\n",
       "   Cumulative relative frequency  \n",
       "0                          0.059  \n",
       "1                          0.147  \n",
       "2                          0.323  \n",
       "3                          0.735  \n",
       "4                          0.853  \n",
       "5                          0.941  \n",
       "6                          1.000  "
      ]
     },
     "execution_count": 1,
     "metadata": {},
     "output_type": "execute_result"
    }
   ],
   "source": [
    "import matplotlib.pyplot as plt\n",
    "import pandas as pd\n",
    "import numpy as np\n",
    "import math\n",
    "\n",
    "# Các khoảng\n",
    "intervals = np.array([0, 8, 12, 16, 24, 28, 34, 50])\n",
    "\n",
    "# Số các khoảng\n",
    "num_of_intervals = len(intervals)-1\n",
    "\n",
    "# Độ lớn của các khoảng\n",
    "intervals_width = np.diff(intervals)\n",
    "\n",
    "# Tần số của các khoảng\n",
    "frequency = np.array([4, 6, 12, 28, 8, 6, 4])\n",
    "\n",
    "# Tần suất của các khoảng\n",
    "probability = np.round(frequency/np.sum(frequency), 3)\n",
    "\n",
    "# Mật độ\n",
    "density = np.round(np.array(probability/intervals_width), 3)\n",
    "\n",
    "# Tần số tích lũy\n",
    "cumsum = np.cumsum(frequency)\n",
    "\n",
    "# Tần suất tích lũy\n",
    "cumsum_prob = np.round(np.cumsum(probability), 3)\n",
    "\n",
    "\n",
    "pd.DataFrame({\n",
    "    \"Interval\":[\"{} - {}\" .format(intervals[i], intervals[i+1]) for i in range(num_of_intervals)],\n",
    "    \"Frequency\" : frequency,\n",
    "    \"Density\" : density,\n",
    "    \"Relative Frequency\": probability,\n",
    "    \"Cumulative Frequency\": cumsum,\n",
    "    \"Cumulative relative frequency\": cumsum_prob\n",
    "})"
   ]
  },
  {
   "cell_type": "markdown",
   "id": "807323f6-43e8-4ee6-8e12-319801252c8f",
   "metadata": {},
   "source": [
    "**2. Vẽ biểu đồ histogram.**"
   ]
  },
  {
   "cell_type": "code",
   "execution_count": 2,
   "id": "bf0360fa-44b3-4fcc-a0e4-571a4d88ea00",
   "metadata": {},
   "outputs": [
    {
     "data": {
      "image/png": "[encoded data removed]",
      "text/plain": [
       "<Figure size 864x432 with 1 Axes>"
      ]
     },
     "metadata": {
      "needs_background": "light"
     },
     "output_type": "display_data"
    }
   ],
   "source": [
    "fig, ax = plt.subplots(figsize=(12, 6))\n",
    "\n",
    "# Cận dưới của các khoảng\n",
    "sub_intervals = intervals[:-1]\n",
    "\n",
    "# Do ta đã có được bảng tần số, nên để vẽ histogram ta sẽ dùng biểu đồ thanh với kích thước các khoảng bằng intervals_width, chiều cao theo density. \n",
    "ax.bar(sub_intervals, density, intervals_width, align = 'edge')\n",
    "\n",
    "ax.set_xlabel(\"Số điếu thuốc\", fontweight = 'bold')\n",
    "ax.set_ylabel(\"Density\", fontweight = 'bold')\n",
    "ax.set_title(\n",
    "    \"Số lượng thuốc hút trung bình mỗi ngày của 68 người có hút thuốc\",\n",
    "    fontsize = 15,\n",
    "    fontweight = 'bold',\n",
    "    pad = 20,\n",
    "    loc = 'center')\n",
    "plt.show()"
   ]
  },
  {
   "cell_type": "markdown",
   "id": "31de23d6-e462-46fd-9d12-27a14328183e",
   "metadata": {},
   "source": [
    "**3. Vẽ biểu đồ tần suất tích lũy.**"
   ]
  },
  {
   "cell_type": "code",
   "execution_count": 3,
   "id": "e736ff83-7793-4df7-bb8e-cad915306ea4",
   "metadata": {},
   "outputs": [
    {
     "data": {
      "image/png": "[encoded data removed]",
      "text/plain": [
       "<Figure size 864x432 with 1 Axes>"
      ]
     },
     "metadata": {
      "needs_background": "light"
     },
     "output_type": "display_data"
    }
   ],
   "source": [
    "fig, ax = plt.subplots(figsize=(12, 6))\n",
    "\n",
    "# Biểu đồ tần suất tích lữy \n",
    "ax.bar(sub_intervals, cumsum_prob, intervals_width, align = 'edge')\n",
    "\n",
    "ax.set_xlabel(\"Số điếu thuốc\", fontweight = 'bold')\n",
    "ax.set_ylabel(\"Density\", fontweight = 'bold')\n",
    "ax.set_title(\n",
    "    \"Số lượng thuốc hút trung bình mỗi ngày của 68 người có hút thuốc\",\n",
    "    fontsize = 15,\n",
    "    fontweight = 'bold',\n",
    "    pad = 20,\n",
    "    loc = 'center')\n",
    "\n",
    "plt.show()"
   ]
  },
  {
   "cell_type": "markdown",
   "id": "bc4c3a3e-376b-4c86-ab17-27aa26ef1e80",
   "metadata": {},
   "source": [
    "**4. Nhận xét**"
   ]
  },
  {
   "cell_type": "markdown",
   "id": "56ca9c8c-c439-42a5-b17c-d379c706c67b",
   "metadata": {},
   "source": [
    "Biểu đồ cho ta biết số điếu thuốc hút trung bình của những người hút thuốc. <br>\n",
    "Qua đó ta thấy, đa số những người hút thuốc hút từ 16 đế 24 điếu một ngày. Một số người hút rất nhiều  - 34 đến 50 điếu trong một ngày - chiếm khoảng 5% số người được khảo sát. <br>"
   ]
  }
 ],
 "metadata": {
  "kernelspec": {
   "display_name": "Python 3 (ipykernel)",
   "language": "python",
   "name": "python3"
  },
  "language_info": {
   "codemirror_mode": {
    "name": "ipython",
    "version": 3
   },
   "file_extension": ".py",
   "mimetype": "text/x-python",
   "name": "python",
   "nbconvert_exporter": "python",
   "pygments_lexer": "ipython3",
   "version": "3.9.12"
  }
 },
 "nbformat": 4,
 "nbformat_minor": 5
}
