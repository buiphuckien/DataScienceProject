{
 "cells": [
  {
   "cell_type": "code",
   "execution_count": 28,
   "id": "6d6d6db0-c880-49e2-9698-8ce2defd302a",
   "metadata": {},
   "outputs": [],
   "source": [
    "from sklearn.neighbors import KNeighborsClassifier\n",
    "\n",
    "features = [[1, 2],\n",
    "            [1, 3],\n",
    "            [2, 3],\n",
    "            [4, 1],\n",
    "            [5, 1],\n",
    "            [5, 2]]\n",
    "\n",
    "targets = ['A', 'A', 'A', 'B', 'B', 'B']"
   ]
  },
  {
   "cell_type": "code",
   "execution_count": 29,
   "id": "bf14ff43-ce24-40dc-afa6-666ed6485300",
   "metadata": {},
   "outputs": [],
   "source": [
    "import matplotlib.pyplot as plt\n",
    "x, y = list(zip(*features))"
   ]
  },
  {
   "cell_type": "code",
   "execution_count": 33,
   "id": "3b7f185b-18d7-4d6a-a603-f36f8c18bc91",
   "metadata": {},
   "outputs": [
    {
     "data": {
      "text/plain": [
       "<matplotlib.collections.PathCollection at 0x7f984ec74bb0>"
      ]
     },
     "execution_count": 33,
     "metadata": {},
     "output_type": "execute_result"
    },
    {
     "data": {
      "image/png": "[encoded data removed]",
      "text/plain": [
       "<Figure size 432x288 with 1 Axes>"
      ]
     },
     "metadata": {
      "needs_background": "light"
     },
     "output_type": "display_data"
    }
   ],
   "source": [
    "plt.scatter(x[:3], y[:3], marker='^')\n",
    "plt.scatter(x[3:], y[3:], marker='s')\n",
    "plt.scatter([2], [2], marker = 'o', s=100) "
   ]
  },
  {
   "cell_type": "code",
   "execution_count": 31,
   "id": "7423bf57-49ca-4507-981d-1c885803a0c5",
   "metadata": {},
   "outputs": [
    {
     "data": {
      "text/plain": [
       "array(['A'], dtype='<U1')"
      ]
     },
     "execution_count": 31,
     "metadata": {},
     "output_type": "execute_result"
    }
   ],
   "source": [
    "knn = KNeighborsClassifier(n_neighbors=1).fit(features, targets)\n",
    "knn.predict([[2, 2]])"
   ]
  }
 ],
 "metadata": {
  "kernelspec": {
   "display_name": "Python 3 (ipykernel)",
   "language": "python",
   "name": "python3"
  },
  "language_info": {
   "codemirror_mode": {
    "name": "ipython",
    "version": 3
   },
   "file_extension": ".py",
   "mimetype": "text/x-python",
   "name": "python",
   "nbconvert_exporter": "python",
   "pygments_lexer": "ipython3",
   "version": "3.9.12"
  }
 },
 "nbformat": 4,
 "nbformat_minor": 5
}
