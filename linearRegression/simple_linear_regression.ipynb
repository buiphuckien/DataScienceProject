{
 "cells": [
  {
   "cell_type": "code",
   "execution_count": 1,
   "id": "ab34d0ea-4a2a-4d78-8e5c-260a2a9fde54",
   "metadata": {},
   "outputs": [],
   "source": [
    "# Load libraries\n",
    "from sklearn.linear_model import LinearRegression\n",
    "\n",
    "\n",
    "\n",
    "# Load data with only two features\n",
    "features = [[1],\n",
    "           [2],\n",
    "           [3]]\n",
    "target = [3.1, 4.9, 7.0]\n",
    "\n",
    "# Create linear regression\n",
    "regression = LinearRegression()\n",
    "\n",
    "# Fit the linear regression\n",
    "model = regression.fit(features, target)"
   ]
  },
  {
   "cell_type": "code",
   "execution_count": 2,
   "id": "f91b67ec-790e-49d4-9826-983a10dfcee5",
   "metadata": {},
   "outputs": [
    {
     "data": {
      "text/plain": [
       "array([8.9])"
      ]
     },
     "execution_count": 2,
     "metadata": {},
     "output_type": "execute_result"
    }
   ],
   "source": [
    "model.predict([[4]])"
   ]
  },
  {
   "cell_type": "code",
   "execution_count": 3,
   "id": "f4bd6dc6-9291-49ed-837b-58a3b1a9e461",
   "metadata": {},
   "outputs": [
    {
     "data": {
      "text/plain": [
       "1.100000000000001"
      ]
     },
     "execution_count": 3,
     "metadata": {},
     "output_type": "execute_result"
    }
   ],
   "source": [
    "model.intercept_"
   ]
  },
  {
   "cell_type": "code",
   "execution_count": 4,
   "id": "e0c916ff-938b-4ed3-850e-5166285cb73d",
   "metadata": {},
   "outputs": [
    {
     "data": {
      "text/plain": [
       "array([1.95])"
      ]
     },
     "execution_count": 4,
     "metadata": {},
     "output_type": "execute_result"
    }
   ],
   "source": [
    "model.coef_"
   ]
  },
  {
   "cell_type": "code",
   "execution_count": null,
   "id": "a482450e-3a06-4182-8f88-0029c81876ce",
   "metadata": {},
   "outputs": [],
   "source": []
  }
 ],
 "metadata": {
  "kernelspec": {
   "display_name": "Python 3 (ipykernel)",
   "language": "python",
   "name": "python3"
  },
  "language_info": {
   "codemirror_mode": {
    "name": "ipython",
    "version": 3
   },
   "file_extension": ".py",
   "mimetype": "text/x-python",
   "name": "python",
   "nbconvert_exporter": "python",
   "pygments_lexer": "ipython3",
   "version": "3.9.12"
  }
 },
 "nbformat": 4,
 "nbformat_minor": 5
}
