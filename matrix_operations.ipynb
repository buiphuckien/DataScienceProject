{
 "cells": [
  {
   "cell_type": "markdown",
   "id": "4ff6da75-08d9-462b-8b8d-573ec750476a",
   "metadata": {},
   "source": [
    "# Basic matrix operations with numpy"
   ]
  },
  {
   "cell_type": "code",
   "execution_count": 1,
   "id": "d015e543-9913-486d-b825-35a8fd3d6303",
   "metadata": {},
   "outputs": [],
   "source": [
    "import numpy as np"
   ]
  },
  {
   "cell_type": "code",
   "execution_count": 3,
   "id": "924b1fbd-c090-45c6-a5db-831392c5b5c8",
   "metadata": {},
   "outputs": [],
   "source": [
    "matrix_a = np.array([[1, 3, 5],\n",
    "                     [2, -4, 6],\n",
    "                     [5, -1, 2]])"
   ]
  },
  {
   "cell_type": "code",
   "execution_count": 4,
   "id": "cab0cc44-b60c-48f8-84f3-8c7dfdf720b2",
   "metadata": {},
   "outputs": [],
   "source": [
    "matrix_b = np.array([[2, -2, 3],\n",
    "                     [4, 0, 5],\n",
    "                     [0, -1, 7]])"
   ]
  },
  {
   "cell_type": "markdown",
   "id": "0794c423-c514-4590-a711-6bca9f7d787c",
   "metadata": {},
   "source": [
    "## Addition and subtraction"
   ]
  },
  {
   "cell_type": "code",
   "execution_count": 5,
   "id": "d950a16f-3da3-4083-8ff3-8b1808325673",
   "metadata": {},
   "outputs": [
    {
     "data": {
      "text/plain": [
       "array([[ 3,  1,  8],\n",
       "       [ 6, -4, 11],\n",
       "       [ 5, -2,  9]])"
      ]
     },
     "execution_count": 5,
     "metadata": {},
     "output_type": "execute_result"
    }
   ],
   "source": [
    "matrix_a + matrix_b"
   ]
  },
  {
   "cell_type": "markdown",
   "id": "87febb28-56e8-4127-9ec2-dbfb6eb9b2bb",
   "metadata": {},
   "source": [
    "## Multiplication"
   ]
  },
  {
   "cell_type": "code",
   "execution_count": 7,
   "id": "7e8bb472-3d18-47f8-8c04-7bae3717f092",
   "metadata": {},
   "outputs": [
    {
     "data": {
      "text/plain": [
       "array([[ 14,  -7,  53],\n",
       "       [-12, -10,  28],\n",
       "       [  6, -12,  24]])"
      ]
     },
     "execution_count": 7,
     "metadata": {},
     "output_type": "execute_result"
    }
   ],
   "source": [
    "matrix_a@matrix_b"
   ]
  },
  {
   "cell_type": "code",
   "execution_count": 9,
   "id": "2a4203b5-9a1a-40e8-b424-1e3f0dad4394",
   "metadata": {},
   "outputs": [
    {
     "data": {
      "text/plain": [
       "array([[13, 11,  4],\n",
       "       [29,  7, 30],\n",
       "       [33, -3,  8]])"
      ]
     },
     "execution_count": 9,
     "metadata": {},
     "output_type": "execute_result"
    }
   ],
   "source": [
    "matrix_b@matrix_a"
   ]
  },
  {
   "cell_type": "markdown",
   "id": "c0463d23-eb17-4f99-bff3-8153866694e4",
   "metadata": {},
   "source": [
    "## Inverting a matrix"
   ]
  },
  {
   "cell_type": "code",
   "execution_count": 10,
   "id": "b6036d65-b11b-446a-83fc-1c2d8505ba34",
   "metadata": {},
   "outputs": [
    {
     "data": {
      "text/plain": [
       "array([[-0.01204819, -0.06626506,  0.22891566],\n",
       "       [ 0.15662651, -0.13855422,  0.02409639],\n",
       "       [ 0.10843373,  0.09638554, -0.06024096]])"
      ]
     },
     "execution_count": 10,
     "metadata": {},
     "output_type": "execute_result"
    }
   ],
   "source": [
    "np.linalg.inv(matrix_a)"
   ]
  },
  {
   "cell_type": "markdown",
   "id": "2c6a130b-6313-4e82-a419-0f00fe35fa38",
   "metadata": {},
   "source": [
    "## Finding the rank of a matrix"
   ]
  },
  {
   "cell_type": "code",
   "execution_count": 15,
   "id": "1816c4a3-0a87-4937-b7d9-fa6bdb7f7c99",
   "metadata": {},
   "outputs": [
    {
     "data": {
      "text/plain": [
       "3"
      ]
     },
     "execution_count": 15,
     "metadata": {},
     "output_type": "execute_result"
    }
   ],
   "source": [
    "np.linalg.matrix_rank(matrix_a)"
   ]
  },
  {
   "cell_type": "markdown",
   "id": "a252104d-d991-4489-b31b-fa90369b62f6",
   "metadata": {},
   "source": [
    "## Calculating the determinant"
   ]
  },
  {
   "cell_type": "code",
   "execution_count": 16,
   "id": "31b96018-b53b-4c1b-996e-737096a1529a",
   "metadata": {},
   "outputs": [
    {
     "data": {
      "text/plain": [
       "166.00000000000006"
      ]
     },
     "execution_count": 16,
     "metadata": {},
     "output_type": "execute_result"
    }
   ],
   "source": [
    "np.linalg.det(matrix_a)"
   ]
  },
  {
   "cell_type": "markdown",
   "id": "892d2e3a-3d99-440a-91f3-482d7bd3b1bc",
   "metadata": {},
   "source": [
    "## Getting the diagonal of a matrix"
   ]
  },
  {
   "cell_type": "code",
   "execution_count": 17,
   "id": "4fd8504e-ee88-4a99-b7e5-319f5941f10e",
   "metadata": {},
   "outputs": [
    {
     "data": {
      "text/plain": [
       "array([ 1, -4,  2])"
      ]
     },
     "execution_count": 17,
     "metadata": {},
     "output_type": "execute_result"
    }
   ],
   "source": [
    "matrix_a.diagonal()"
   ]
  },
  {
   "cell_type": "markdown",
   "id": "54b152de-4578-4407-b5e8-00cb10a34ee8",
   "metadata": {},
   "source": [
    "## Finding eigenvalues and eigenvectors"
   ]
  },
  {
   "cell_type": "code",
   "execution_count": 23,
   "id": "dac80a8e-096b-4edb-8631-14512f2e8e15",
   "metadata": {},
   "outputs": [],
   "source": [
    "matrix_c = np.array([[1, 0, 5],\n",
    "                     [0, 2, 6],\n",
    "                     [0, 0, 3]])\n",
    "eigenvalues, eigenvectors = np.linalg.eig(matrix_c)"
   ]
  },
  {
   "cell_type": "code",
   "execution_count": 24,
   "id": "3c1cc876-608f-44b8-a955-ae3d113fd6db",
   "metadata": {},
   "outputs": [
    {
     "data": {
      "text/plain": [
       "array([1., 2., 3.])"
      ]
     },
     "execution_count": 24,
     "metadata": {},
     "output_type": "execute_result"
    }
   ],
   "source": [
    "eigenvalues"
   ]
  },
  {
   "cell_type": "code",
   "execution_count": 25,
   "id": "51c48bfa-c391-4a6f-820f-073a78e8401b",
   "metadata": {},
   "outputs": [
    {
     "data": {
      "text/plain": [
       "array([[1.        , 0.        , 0.38014296],\n",
       "       [0.        , 1.        , 0.91234311],\n",
       "       [0.        , 0.        , 0.15205718]])"
      ]
     },
     "execution_count": 25,
     "metadata": {},
     "output_type": "execute_result"
    }
   ],
   "source": [
    "eigenvectors"
   ]
  },
  {
   "cell_type": "markdown",
   "id": "bb7485a1-1c90-4554-b622-f1ea3b7a5f9a",
   "metadata": {},
   "source": [
    "## Transposing a matrix"
   ]
  },
  {
   "cell_type": "code",
   "execution_count": 26,
   "id": "33b28adb-349c-447e-b37d-1e35b2872847",
   "metadata": {},
   "outputs": [],
   "source": [
    "matrix_d = np.array([[1, 0],\n",
    "                     [0, 2],\n",
    "                     [0, 0]])"
   ]
  },
  {
   "cell_type": "code",
   "execution_count": 27,
   "id": "889d525a-9cc9-448d-9cad-28e0e68abe21",
   "metadata": {},
   "outputs": [
    {
     "data": {
      "text/plain": [
       "array([[1, 0, 0],\n",
       "       [0, 2, 0]])"
      ]
     },
     "execution_count": 27,
     "metadata": {},
     "output_type": "execute_result"
    }
   ],
   "source": [
    "matrix_d.T"
   ]
  },
  {
   "cell_type": "markdown",
   "id": "21108072-5191-437e-8a98-c14c48298a30",
   "metadata": {},
   "source": [
    "## Selecting element"
   ]
  },
  {
   "cell_type": "code",
   "execution_count": 28,
   "id": "bad3e118-ab98-424f-9f5d-ddddabad8360",
   "metadata": {},
   "outputs": [
    {
     "data": {
      "text/plain": [
       "array([[1, 0],\n",
       "       [0, 2]])"
      ]
     },
     "execution_count": 28,
     "metadata": {},
     "output_type": "execute_result"
    }
   ],
   "source": [
    "# Select row 1 and row 2 of a metrix\n",
    "matrix_d[:2, :]"
   ]
  },
  {
   "cell_type": "code",
   "execution_count": 29,
   "id": "6ff02c03-d365-44fb-93fb-6ec1424a2e50",
   "metadata": {},
   "outputs": [
    {
     "data": {
      "text/plain": [
       "array([[1],\n",
       "       [0],\n",
       "       [0]])"
      ]
     },
     "execution_count": 29,
     "metadata": {},
     "output_type": "execute_result"
    }
   ],
   "source": [
    "# Select the first column of a matrix\n",
    "matrix_d[:, :1]"
   ]
  }
 ],
 "metadata": {
  "kernelspec": {
   "display_name": "Python 3",
   "language": "python",
   "name": "python3"
  },
  "language_info": {
   "codemirror_mode": {
    "name": "ipython",
    "version": 3
   },
   "file_extension": ".py",
   "mimetype": "text/x-python",
   "name": "python",
   "nbconvert_exporter": "python",
   "pygments_lexer": "ipython3",
   "version": "3.8.8"
  }
 },
 "nbformat": 4,
 "nbformat_minor": 5
}
