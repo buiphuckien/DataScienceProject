{
 "cells": [
  {
   "cell_type": "code",
   "execution_count": 1,
   "id": "a7616c49-5fd1-4216-9e1d-f658da8b212e",
   "metadata": {},
   "outputs": [
    {
     "data": {
      "text/plain": [
       "array(['A'], dtype='<U1')"
      ]
     },
     "execution_count": 1,
     "metadata": {},
     "output_type": "execute_result"
    }
   ],
   "source": [
    "from sklearn.ensemble import RandomForestClassifier\n",
    "\n",
    "features = [[1, 2, 1],\n",
    "            [1, 3, 3],\n",
    "            [2, 3, 1],\n",
    "            [4, 1, 4],\n",
    "            [5, 1, 5],\n",
    "            [5, 2, 4]]\n",
    "\n",
    "targets = ['A', 'A', 'A', 'B', 'B', 'B']\n",
    "forest  = RandomForestClassifier(n_estimators=5, random_state=0)\n",
    "forest.fit(features, targets)\n",
    "forest.predict([[2, 2, 3]])"
   ]
  }
 ],
 "metadata": {
  "kernelspec": {
   "display_name": "Python 3 (ipykernel)",
   "language": "python",
   "name": "python3"
  },
  "language_info": {
   "codemirror_mode": {
    "name": "ipython",
    "version": 3
   },
   "file_extension": ".py",
   "mimetype": "text/x-python",
   "name": "python",
   "nbconvert_exporter": "python",
   "pygments_lexer": "ipython3",
   "version": "3.9.12"
  }
 },
 "nbformat": 4,
 "nbformat_minor": 5
}
