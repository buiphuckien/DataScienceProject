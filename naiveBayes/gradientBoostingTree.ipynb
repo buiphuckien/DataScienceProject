{
 "cells": [
  {
   "cell_type": "code",
   "execution_count": 2,
   "id": "a7616c49-5fd1-4216-9e1d-f658da8b212e",
   "metadata": {},
   "outputs": [
    {
     "data": {
      "text/plain": [
       "array(['A'], dtype='<U1')"
      ]
     },
     "execution_count": 2,
     "metadata": {},
     "output_type": "execute_result"
    }
   ],
   "source": [
    "from sklearn.ensemble import GradientBoostingClassifier\n",
    "\n",
    "features = [[1, 2, 1],\n",
    "            [1, 3, 3],\n",
    "            [2, 3, 1],\n",
    "            [4, 1, 4],\n",
    "            [5, 1, 5],\n",
    "            [5, 2, 4]]\n",
    "\n",
    "targets = ['A', 'A', 'A', 'B', 'B', 'B']\n",
    "gbtr  = GradientBoostingClassifier(random_state=0)\n",
    "gbtr.fit(features, targets)\n",
    "gbtr.predict([[2, 2, 3]])"
   ]
  },
  {
   "cell_type": "code",
   "execution_count": 3,
   "id": "7e096166-aa00-4b20-9145-fd067f6ab096",
   "metadata": {},
   "outputs": [
    {
     "data": {
      "text/plain": [
       "array([0.68615563, 0.        , 0.31384437])"
      ]
     },
     "execution_count": 3,
     "metadata": {},
     "output_type": "execute_result"
    }
   ],
   "source": [
    "gbtr.feature_importances_"
   ]
  },
  {
   "cell_type": "code",
   "execution_count": null,
   "id": "fdd0bec0-91bc-4f13-9dcc-ab5971d76e3e",
   "metadata": {},
   "outputs": [],
   "source": []
  }
 ],
 "metadata": {
  "kernelspec": {
   "display_name": "Python 3 (ipykernel)",
   "language": "python",
   "name": "python3"
  },
  "language_info": {
   "codemirror_mode": {
    "name": "ipython",
    "version": 3
   },
   "file_extension": ".py",
   "mimetype": "text/x-python",
   "name": "python",
   "nbconvert_exporter": "python",
   "pygments_lexer": "ipython3",
   "version": "3.9.12"
  }
 },
 "nbformat": 4,
 "nbformat_minor": 5
}
