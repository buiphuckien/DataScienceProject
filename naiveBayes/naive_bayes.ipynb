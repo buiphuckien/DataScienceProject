{
 "cells": [
  {
   "cell_type": "code",
   "execution_count": 3,
   "id": "67cd089e-e83a-430a-9131-fe9a19d1bbae",
   "metadata": {},
   "outputs": [],
   "source": [
    "from sklearn.naive_bayes import GaussianNB\n",
    "\n",
    "features = [[1, 2],\n",
    "            [1, 3],\n",
    "            [2, 3],\n",
    "            [4, 1],\n",
    "            [5, 1],\n",
    "            [5, 2]]\n",
    "\n",
    "targets = ['A', 'A', 'A', 'B', 'B', 'B']\n",
    "\n",
    "classifer = GaussianNB()\n",
    "\n",
    "# Train models\n",
    "model = classifer.fit(features, targets)"
   ]
  },
  {
   "cell_type": "code",
   "execution_count": 4,
   "id": "af9b89a2-8c51-41f1-95fb-274111591993",
   "metadata": {},
   "outputs": [
    {
     "data": {
      "text/plain": [
       "array(['A'], dtype='<U1')"
      ]
     },
     "execution_count": 4,
     "metadata": {},
     "output_type": "execute_result"
    }
   ],
   "source": [
    "model.predict([[2, 2]])"
   ]
  }
 ],
 "metadata": {
  "kernelspec": {
   "display_name": "Python 3 (ipykernel)",
   "language": "python",
   "name": "python3"
  },
  "language_info": {
   "codemirror_mode": {
    "name": "ipython",
    "version": 3
   },
   "file_extension": ".py",
   "mimetype": "text/x-python",
   "name": "python",
   "nbconvert_exporter": "python",
   "pygments_lexer": "ipython3",
   "version": "3.9.12"
  }
 },
 "nbformat": 4,
 "nbformat_minor": 5
}
